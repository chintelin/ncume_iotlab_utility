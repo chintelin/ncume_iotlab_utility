{
 "cells": [
  {
   "cell_type": "markdown",
   "id": "f8e86509-d0b9-455f-8d47-d031a72acad9",
   "metadata": {},
   "source": [
    "# Import libraries"
   ]
  },
  {
   "cell_type": "code",
   "execution_count": 1,
   "id": "0d155dc7-8706-477d-9e26-bcfb8690a187",
   "metadata": {},
   "outputs": [],
   "source": [
    "import numpy as np\n",
    "import matplotlib.pyplot as plt\n",
    "import pandas as pd\n",
    "from scipy.optimize import curve_fit\n",
    "from scipy.stats import norm\n",
    "from scipy.optimize import minimize"
   ]
  },
  {
   "cell_type": "markdown",
   "id": "de69a13f-2263-4393-b392-d5122f8a2a67",
   "metadata": {},
   "source": [
    "# Configuration"
   ]
  },
  {
   "cell_type": "code",
   "execution_count": 7,
   "id": "d02531fb-e982-419d-96f0-94d00d2ddd1b",
   "metadata": {},
   "outputs": [],
   "source": [
    "bin_count = 10"
   ]
  },
  {
   "cell_type": "markdown",
   "id": "35ae6cb9-5236-4e41-be41-f1aee654a636",
   "metadata": {},
   "source": [
    "# Load data and preview it"
   ]
  },
  {
   "cell_type": "code",
   "execution_count": 2,
   "id": "226c0fa1-0f78-46e5-814d-21d926130670",
   "metadata": {},
   "outputs": [
    {
     "data": {
      "text/html": [
       "<div>\n",
       "<style scoped>\n",
       "    .dataframe tbody tr th:only-of-type {\n",
       "        vertical-align: middle;\n",
       "    }\n",
       "\n",
       "    .dataframe tbody tr th {\n",
       "        vertical-align: top;\n",
       "    }\n",
       "\n",
       "    .dataframe thead th {\n",
       "        text-align: right;\n",
       "    }\n",
       "</style>\n",
       "<table border=\"1\" class=\"dataframe\">\n",
       "  <thead>\n",
       "    <tr style=\"text-align: right;\">\n",
       "      <th></th>\n",
       "      <th>Value</th>\n",
       "    </tr>\n",
       "  </thead>\n",
       "  <tbody>\n",
       "    <tr>\n",
       "      <th>0</th>\n",
       "      <td>0.841447</td>\n",
       "    </tr>\n",
       "    <tr>\n",
       "      <th>1</th>\n",
       "      <td>1.886748</td>\n",
       "    </tr>\n",
       "    <tr>\n",
       "      <th>2</th>\n",
       "      <td>2.593211</td>\n",
       "    </tr>\n",
       "    <tr>\n",
       "      <th>3</th>\n",
       "      <td>2.136552</td>\n",
       "    </tr>\n",
       "    <tr>\n",
       "      <th>4</th>\n",
       "      <td>3.437901</td>\n",
       "    </tr>\n",
       "  </tbody>\n",
       "</table>\n",
       "</div>"
      ],
      "text/plain": [
       "      Value\n",
       "0  0.841447\n",
       "1  1.886748\n",
       "2  2.593211\n",
       "3  2.136552\n",
       "4  3.437901"
      ]
     },
     "execution_count": 2,
     "metadata": {},
     "output_type": "execute_result"
    }
   ],
   "source": [
    "# 假設我們有一組數據\n",
    "data = np.random.normal(loc=2, scale=1, size=100)\n",
    "dataset = pd.DataFrame(data, columns=['Value'])\n",
    "dataset.head()\n"
   ]
  },
  {
   "cell_type": "markdown",
   "id": "2962db39-fa59-4b5e-9fa4-d458d79b8eae",
   "metadata": {},
   "source": [
    "# plot data histogram"
   ]
  },
  {
   "cell_type": "code",
   "execution_count": 8,
   "id": "fb6f91ae-8c62-4d2c-9108-b84cb8fcd3f5",
   "metadata": {
    "editable": true,
    "slideshow": {
     "slide_type": ""
    },
    "tags": []
   },
   "outputs": [
    {
     "data": {
      "image/png": "[encoded data removed]",
      "text/plain": [
       "<Figure size 640x480 with 1 Axes>"
      ]
     },
     "metadata": {},
     "output_type": "display_data"
    }
   ],
   "source": [
    "# 使用plt.hist提取直方圖的信息\n",
    "bin_values, edges_of_bins, patches = plt.hist(dataset['Value'], bins=bin_count, density=False)\n",
    "bin_centers = (edges_of_bins[:-1] + edges_of_bins[1:]) / 2"
   ]
  },
  {
   "cell_type": "markdown",
   "id": "87dbd231-9505-43da-ae61-1c61efc8c591",
   "metadata": {},
   "source": [
    "# define and list distribution functions for fitting"
   ]
  },
  {
   "cell_type": "code",
   "execution_count": 9,
   "id": "c6df1e99-5fee-4358-8d1c-e1a2d123180b",
   "metadata": {},
   "outputs": [],
   "source": [
    "# 定義高斯分佈的模型函數\n",
    "def gauss(x, A, mu, sigma):\n",
    "    return A * np.exp(-(x - mu)**2 / (2 * sigma**2))"
   ]
  },
  {
   "cell_type": "code",
   "execution_count": 10,
   "id": "e4b78289-dc08-46cf-a8e6-3b3a6c11ce0e",
   "metadata": {},
   "outputs": [],
   "source": [
    "# 使用curve_fit來擬合高斯分佈\n",
    "popt, pcov = curve_fit(gauss, bin_centers, bin_values)"
   ]
  },
  {
   "cell_type": "code",
   "execution_count": 11,
   "id": "dc5eae48-e92c-40c2-bb4c-793bd9d48058",
   "metadata": {},
   "outputs": [
    {
     "data": {
      "image/png": "[encoded data removed]",
      "text/plain": [
       "<Figure size 640x480 with 1 Axes>"
      ]
     },
     "metadata": {},
     "output_type": "display_data"
    }
   ],
   "source": [
    "# 獲取擬合參數\n",
    "A, mu, sigma = popt\n",
    "\n",
    "# 繪製擬合的高斯分佈\n",
    "x = np.linspace(min(dataset['Value']) - 3*sigma, max(dataset['Value']) + 3*sigma, 100)\n",
    "y = gauss(x, A, mu, sigma)\n",
    "\n",
    "plt.hist(dataset['Value'], bins=bin_count, density=False)\n",
    "plt.plot(x, y, 'r-', label=f'Fitted Gaussian\\nmu={mu:.2f}, sigma={sigma:.2f}')\n",
    "plt.legend()\n",
    "plt.show()"
   ]
  },
  {
   "cell_type": "code",
   "execution_count": null,
   "id": "e2b5133d-918c-40a2-8d6e-9354f3da6a8f",
   "metadata": {},
   "outputs": [],
   "source": []
  }
 ],
 "metadata": {
  "kernelspec": {
   "display_name": "Python 3 (ipykernel)",
   "language": "python",
   "name": "python3"
  },
  "language_info": {
   "codemirror_mode": {
    "name": "ipython",
    "version": 3
   },
   "file_extension": ".py",
   "mimetype": "text/x-python",
   "name": "python",
   "nbconvert_exporter": "python",
   "pygments_lexer": "ipython3",
   "version": "3.11.6"
  }
 },
 "nbformat": 4,
 "nbformat_minor": 5
}
