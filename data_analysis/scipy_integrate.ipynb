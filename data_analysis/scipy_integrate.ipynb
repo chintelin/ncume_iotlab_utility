{
 "cells": [
  {
   "cell_type": "code",
   "execution_count": 5,
   "id": "80d0232f-de08-4bca-83c0-c515b04c76fd",
   "metadata": {},
   "outputs": [
    {
     "name": "stdout",
     "output_type": "stream",
     "text": [
      "積分結果：0.33333333333333337, 錯誤估計：3.700743415417189e-15\n"
     ]
    }
   ],
   "source": [
    "from scipy.integrate import quad\n",
    "import numpy as np\n",
    "import math\n",
    "\n",
    "# 定義一個帶參數的函數\n",
    "def f(x, param):\n",
    "    return x**param\n",
    "\n",
    "# 使用 quad 函數計算積分，帶入參數值\n",
    "result, error_estimate = quad(f, 0, 1, args=(2,))\n",
    "\n",
    "print(f\"積分結果：{result}, 錯誤估計：{error_estimate}\")\n"
   ]
  },
  {
   "cell_type": "code",
   "execution_count": 7,
   "id": "0ec85844-8c34-435c-a6b8-e88ee782f06f",
   "metadata": {},
   "outputs": [
    {
     "name": "stdout",
     "output_type": "stream",
     "text": [
      "積分結果：0.8556243918921489, 錯誤估計：9.499339003095618e-15\n"
     ]
    }
   ],
   "source": [
    "def gauss(x, A, mu, sigma):\n",
    "    return A * np.exp(-(x - mu)**2 / (2 * sigma**2))\n",
    "\n",
    "result, error_estimate = quad(gauss, 0, 1, args=(1,1,1,))\n",
    "\n",
    "print(f\"積分結果：{result}, 錯誤估計：{error_estimate}\")"
   ]
  },
  {
   "cell_type": "code",
   "execution_count": null,
   "id": "67d0b3e2-efba-4760-858f-7c530697247b",
   "metadata": {},
   "outputs": [],
   "source": []
  }
 ],
 "metadata": {
  "kernelspec": {
   "display_name": "Python 3 (ipykernel)",
   "language": "python",
   "name": "python3"
  },
  "language_info": {
   "codemirror_mode": {
    "name": "ipython",
    "version": 3
   },
   "file_extension": ".py",
   "mimetype": "text/x-python",
   "name": "python",
   "nbconvert_exporter": "python",
   "pygments_lexer": "ipython3",
   "version": "3.11.6"
  }
 },
 "nbformat": 4,
 "nbformat_minor": 5
}
